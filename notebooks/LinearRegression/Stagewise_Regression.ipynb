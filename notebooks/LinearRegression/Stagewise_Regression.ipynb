{
 "cells": [
  {
   "cell_type": "code",
   "execution_count": 10,
   "metadata": {},
   "outputs": [],
   "source": [
    "import numpy as np\n",
    "import pandas as pd\n",
    "import seaborn as sns"
   ]
  },
  {
   "cell_type": "code",
   "execution_count": 219,
   "metadata": {},
   "outputs": [],
   "source": [
    "from sklearn.datasets import load_diabetes\n",
    "from sklearn.linear_model import LinearRegression"
   ]
  },
  {
   "cell_type": "code",
   "execution_count": 220,
   "metadata": {},
   "outputs": [],
   "source": [
    "# Forward Stagewise Regression\n",
    "\n",
    "def get_residuals(model, x, y):\n",
    "    return y - model.predict(x)\n",
    "\n",
    "def find_max_correlation(res, x, verbose = False):\n",
    "    im, corr = 0, 0\n",
    "    for i in range(x.shape[1]):\n",
    "        cf = np.corrcoef(x[:,i], res)[0,1]\n",
    "        if np.abs(cf) > np.abs(corr): im, corr = i, cf\n",
    "        if verbose: print (\"[+] %d: %f\" % (im, cf)) \n",
    "    return im, corr\n",
    "\n",
    "def get_coeff(x,y):\n",
    "    return np.dot(x,y) / np.dot(x,x)\n",
    "\n",
    "def update_model(model, idx, value):\n",
    "    model.coef_[idx]+=value\n",
    "\n",
    "def stagewise_regression(x, y, tolerance = 1e-4, max_iterations = 1e3, verbose = 0):\n",
    "    model = LinearRegression()\n",
    "    model.coef_ = np.zeros(x.shape[1])\n",
    "    model.intercept_ = np.mean(y, axis = 0)\n",
    "    \n",
    "    it, corr = 0, tolerance * 2\n",
    "    while abs(corr) > tolerance: \n",
    "        it+=1\n",
    "        res = get_residuals(model, x, y)\n",
    "        ix, corr = find_max_correlation(res, x)\n",
    "        cf = get_coeff(x[:,ix], res)\n",
    "        if cf == 0: \n",
    "            print(\"[!!] Coefficient not being updated\")\n",
    "            break\n",
    "        update_model(model, ix, cf)\n",
    "        if verbose == 2: \n",
    "            print(\"[+] Residuals: %f. Max corr: %f in cord %d, coeff: %f\" % (np.dot(res, res), corr, ix, cf))\n",
    "        if it > max_iterations: \n",
    "            print(\"[!!] Max iterations\")\n",
    "            break\n",
    "    if verbose == 1:\n",
    "        print(\"[+] Residuals: %f. Max corr: %f in cord %d, coeff: %f\" % (np.dot(res, res), corr, ix, cf))\n",
    "    return model\n",
    "    \n",
    "    "
   ]
  },
  {
   "cell_type": "code",
   "execution_count": 231,
   "metadata": {},
   "outputs": [
    {
     "name": "stdout",
     "output_type": "stream",
     "text": [
      "[+] Residuals: 1263983.184158. Max corr: 0.000010 in cord 8, coeff: 0.010770\n"
     ]
    }
   ],
   "source": [
    "# Lets use one of the sklearn datasets\n",
    "a = load_diabetes()\n",
    "x = a['data']\n",
    "y = a['target']\n",
    "m = stagewise_regression(x, y, tolerance = 1e-5, max_iterations = 1e4, verbose = 1)"
   ]
  },
  {
   "cell_type": "code",
   "execution_count": 232,
   "metadata": {},
   "outputs": [
    {
     "data": {
      "text/plain": [
       "1263983.156255485"
      ]
     },
     "execution_count": 232,
     "metadata": {},
     "output_type": "execute_result"
    }
   ],
   "source": [
    "# Let's compare the coefficients with a regular Linear regression\n",
    "lr = LinearRegression()\n",
    "lr.fit(x,y)\n",
    "res = lr.predict(x) - y\n",
    "np.dot(res,res)"
   ]
  },
  {
   "cell_type": "code",
   "execution_count": 233,
   "metadata": {},
   "outputs": [
    {
     "data": {
      "text/plain": [
       "array([ 0.11668894,  0.0043359 , -0.00482389,  0.00622631,  0.16086764,\n",
       "        0.20895246,  0.57344995,  0.10845026,  0.06192832, -0.01649127])"
      ]
     },
     "execution_count": 233,
     "metadata": {},
     "output_type": "execute_result"
    }
   ],
   "source": [
    "(lr.coef_ - m.coef_)/ lr.coef_ * 100"
   ]
  },
  {
   "cell_type": "code",
   "execution_count": null,
   "metadata": {},
   "outputs": [],
   "source": []
  }
 ],
 "metadata": {
  "kernelspec": {
   "display_name": "Python 3",
   "language": "python",
   "name": "python3"
  },
  "language_info": {
   "codemirror_mode": {
    "name": "ipython",
    "version": 3
   },
   "file_extension": ".py",
   "mimetype": "text/x-python",
   "name": "python",
   "nbconvert_exporter": "python",
   "pygments_lexer": "ipython3",
   "version": "3.7.4"
  }
 },
 "nbformat": 4,
 "nbformat_minor": 2
}
